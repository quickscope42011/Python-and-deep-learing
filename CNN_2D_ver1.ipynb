{
  "cells": [
    {
      "cell_type": "markdown",
      "metadata": {
        "id": "view-in-github",
        "colab_type": "text"
      },
      "source": [
        "<a href=\"https://colab.research.google.com/github/quickscope42011/Python-and-deep-learing/blob/main/CNN_2D_ver1.ipynb\" target=\"_parent\"><img src=\"https://colab.research.google.com/assets/colab-badge.svg\" alt=\"Open In Colab\"/></a>"
      ]
    },
    {
      "cell_type": "markdown",
      "metadata": {
        "id": "XA_hIyaLOa3m"
      },
      "source": [
        "# Import packages"
      ]
    },
    {
      "cell_type": "code",
      "execution_count": null,
      "metadata": {
        "id": "J32xraEUOa3p"
      },
      "outputs": [],
      "source": [
        "import time\n",
        "import torch\n",
        "import numpy as np\n",
        "import torch.nn as nn\n",
        "import matplotlib.pyplot as plt\n",
        "import torch.nn.functional as F\n",
        "import torchvision.datasets as datasets\n",
        "import torchvision.transforms as transforms\n",
        "from PIL import Image\n",
        "import os\n",
        "import natsort\n",
        "\n",
        "from torch.utils.data import random_split,Dataset\n",
        "from torch.utils.data.dataloader import DataLoader\n",
        "from tqdm.auto import tqdm"
      ]
    },
    {
      "cell_type": "markdown",
      "metadata": {
        "id": "LqNXNvYcOa3r"
      },
      "source": [
        "# Hyperparameters"
      ]
    },
    {
      "cell_type": "code",
      "execution_count": null,
      "metadata": {
        "id": "OdGH5IF5Oa3r"
      },
      "outputs": [],
      "source": [
        "epochs = 25\n",
        "batch_size = 128\n",
        "learning_rate = 0.001\n",
        "opt_func = torch.optim.AdamW"
      ]
    },
    {
      "cell_type": "markdown",
      "metadata": {
        "id": "iU-jImX7Oa3r"
      },
      "source": [
        "# Data preprocessing"
      ]
    },
    {
      "cell_type": "code",
      "source": [
        "current_dir = os.getcwd()\n",
        "print(current_dir)"
      ],
      "metadata": {
        "id": "iEUI6pnMKlzX"
      },
      "execution_count": null,
      "outputs": []
    },
    {
      "cell_type": "code",
      "source": [
        "if not os.path.exists(current_dir + '/Trash Classified(12) - Student'):\n",
        "  !gdown 13g9wTNbN9scWOUqQqZVpUx03k_RYd9VQ -O trash.zip\n",
        "  !unzip -q trash.zip"
      ],
      "metadata": {
        "id": "qW3KYuSczei4"
      },
      "execution_count": null,
      "outputs": []
    },
    {
      "cell_type": "code",
      "execution_count": null,
      "metadata": {
        "id": "7GMMmRh_Oa3r"
      },
      "outputs": [],
      "source": [
        "### Trash 12 ###\n",
        "PATH1 = current_dir + '/Trash Classified(12) - Student/Test_Dataset'\n",
        "PATH2 = current_dir + '/Trash Classified(12) - Student/Train_Dataset'\n",
        "\n",
        "transform = transforms.Compose([\n",
        "    transforms.ToTensor(),\n",
        "    transforms.Resize(225),\n",
        "    transforms.RandomCrop(200),\n",
        "    transforms.RandomRotation(degrees = 15),\n",
        "    transforms.RandomHorizontalFlip(p = 0.5),\n",
        "    transforms.Normalize(mean = [0.5, 0.5, 0.5], std = [0.5, 0.5, 0.5])\n",
        "])\n",
        "\n",
        "#test_ds = datasets.ImageFolder(root = PATH1, transform = transform)\n",
        "dataset = datasets.ImageFolder(root = PATH2, transform = transform)\n",
        "\n",
        "train_size = 13700\n",
        "valid_size = len(dataset) - train_size\n",
        "train_ds, valid_ds = random_split(dataset, [train_size, valid_size])\n",
        "\n",
        "train_dl = DataLoader(train_ds, batch_size = batch_size, shuffle = True)\n",
        "valid_dl = DataLoader(valid_ds, batch_size = batch_size, shuffle = True)\n",
        "#test_dl  = DataLoader(test_ds,  batch_size = batch_size, shuffle = True)"
      ]
    },
    {
      "cell_type": "code",
      "source": [
        "for images, labels in train_dl:\n",
        "    print('Batch image shape:' , images.shape)\n",
        "    print('Batch label shape: ' , labels.shape)\n",
        "    print(images[0].shape)\n",
        "    img0 = torch.permute(images[0], (1,2,0))\n",
        "    plt.imshow(img0)\n",
        "    print('Image label:', labels[0])\n",
        "    break"
      ],
      "metadata": {
        "id": "KcIrgvam4LT_"
      },
      "execution_count": null,
      "outputs": []
    },
    {
      "cell_type": "markdown",
      "metadata": {
        "id": "d6sIRlw2Oa3t"
      },
      "source": [
        "# Model"
      ]
    },
    {
      "cell_type": "code",
      "execution_count": null,
      "metadata": {
        "id": "vKrN5Y9lOa3t"
      },
      "outputs": [],
      "source": [
        "# input dataloader size = [64, 3, 224, 224]\n",
        "\n",
        "class Trash2DModel(torch.nn.Module):\n",
        "  def __init__(self, n_out_classes = 12):\n",
        "    super(Trash2DModel, self).__init__()\n",
        "    \n",
        "    self.model = nn.Sequential(\n",
        "      \n",
        "      ### convolution layer 1 ###\n",
        "\n",
        "      nn.Conv2d(3, 16, kernel_size = 3, padding = 1),\n",
        "      nn.ReLU(),\n",
        "      nn.BatchNorm2d(16),\n",
        "      nn.MaxPool2d(2, stride = 2),        # image_size = [floor(200 - 2 + 2*0) / 2 + 1] = 200\n",
        "\n",
        "      ### convolution layer 2 ###\n",
        "\n",
        "      nn.Conv2d(16, 32, kernel_size = 3, padding = 1),\n",
        "      nn.ReLU(),\n",
        "      nn.BatchNorm2d(32),\n",
        "      nn.MaxPool2d(2, stride = 2),\n",
        "      \n",
        "      # ### convolution layer 3 ###\n",
        "\n",
        "      # nn.Conv2d(32, 64, kernel_size = 3, padding = 1),\n",
        "      # nn.ReLU(),\n",
        "      # nn.BatchNorm2d(64),\n",
        "      # nn.MaxPool2d(2, stride = 2),\n",
        "      \n",
        "      ### fully connected layer ###\n",
        "      \n",
        "      nn.Flatten(),\n",
        "      nn.Linear(32*50*50, 128),\n",
        "      nn.ReLU(),\n",
        "      nn.BatchNorm1d(128),\n",
        "      nn.Linear(128, n_out_classes)\n",
        "    )\n",
        "\n",
        "  def forward(self, x):\n",
        "      x = self.model(x.float())\n",
        "      return x"
      ]
    },
    {
      "cell_type": "markdown",
      "metadata": {
        "id": "3MxFQnFeOa3t"
      },
      "source": [
        "# CUDA"
      ]
    },
    {
      "cell_type": "code",
      "execution_count": null,
      "metadata": {
        "id": "OLjU6kryOa3t"
      },
      "outputs": [],
      "source": [
        "def get_default_device():\n",
        "  if torch.cuda.is_available():\n",
        "    return torch.device('cuda')\n",
        "  else:\n",
        "    return torch.device('cpu')\n",
        "\n",
        "device = get_default_device()\n",
        "print(device)\n",
        "\n",
        "def to_device(data, device):\n",
        "  if isinstance(data, (list,tuple)):\n",
        "    return [to_device(x, device) for x in data]\n",
        "  return data.to(device, non_blocking = True)\n",
        "\n",
        "class DeviceDataLoader():\n",
        "  def __init__(self, dl, device):\n",
        "    self.dl = dl\n",
        "    self.device = device\n",
        "  def __iter__(self):\n",
        "    for b in self.dl:\n",
        "      yield to_device(b, self.device)\n",
        "  def __len__(self):\n",
        "    return len(self.dl)"
      ]
    },
    {
      "cell_type": "code",
      "execution_count": null,
      "metadata": {
        "id": "bMczGVuKOa3t"
      },
      "outputs": [],
      "source": [
        "# model is first defined here\n",
        "model_2D = to_device(Trash2DModel(), device)\n",
        "\n",
        "train_dl = DeviceDataLoader(train_dl, device)\n",
        "valid_dl = DeviceDataLoader(valid_dl, device)\n",
        "# test_dl  = DeviceDataLoader(test_dl, device)"
      ]
    },
    {
      "cell_type": "markdown",
      "metadata": {
        "id": "g7GWarfIOa3u"
      },
      "source": [
        "# Metrics"
      ]
    },
    {
      "cell_type": "code",
      "execution_count": null,
      "metadata": {
        "id": "k-tQVdQ5Oa3u"
      },
      "outputs": [],
      "source": [
        "class calculate():\n",
        "    def criterion(self, preds, labels): \n",
        "        labels = torch.reshape(labels, (-1,))\n",
        "        labels = labels.type(torch.LongTensor)\n",
        "        labels = labels.to(device)\n",
        "        loss = F.cross_entropy(preds,labels)\n",
        "        return loss\n",
        "\n",
        "    def accuracy(self, outputs, labels):\n",
        "        _, preds = torch.max(outputs, dim=1)\n",
        "        return torch.tensor(torch.sum(preds == labels).item() / len(preds))\n",
        "    \n",
        "    def evaluate(self, val_loader):\n",
        "        outputs = [self.validation_step(batch) for batch in val_loader]\n",
        "        data = [output['data'] for output in outputs]\n",
        "        return self.validation_average(outputs), data\n",
        "    def print_all(self, epoch, result):\n",
        "        print('Epoch [{}], train_loss: {:.6f}, train_acc: {:.6f}, val_loss:{:.6f}, val_acc:{:.6f}'.\n",
        "        format(epoch, result['train_loss'][-1], result['train_accu'][-1],\n",
        "        result['valid_loss'][-1], result['valid_accu'][-1]))"
      ]
    },
    {
      "cell_type": "markdown",
      "metadata": {
        "id": "V5NAwqDzOa3u"
      },
      "source": [
        "# Training process"
      ]
    },
    {
      "cell_type": "code",
      "execution_count": null,
      "metadata": {
        "id": "mfA5tGt0Oa3u"
      },
      "outputs": [],
      "source": [
        "def training(train_dl, model, util):\n",
        "    optimizer = opt_func(model.parameters(), learning_rate)\n",
        "    model.train()\n",
        "    batch_acc = []\n",
        "    batch_loss = []\n",
        "    for images, labels in tqdm(train_dl):\n",
        "        \n",
        "        outputs = model(images)\n",
        "        loss = util.criterion(outputs, labels)\n",
        "        loss.backward()\n",
        "        optimizer.step()\n",
        "        optimizer.zero_grad()\n",
        "        batch_loss.append(loss.clone().detach().cpu())\n",
        "        batch_acc.append(util.accuracy(outputs, labels))\n",
        "    return torch.stack(batch_loss).mean(), torch.stack(batch_acc).mean()\n",
        "\n",
        "def validating(valid_dl, model, util):\n",
        "    model.eval()\n",
        "    batch_loss = [] \n",
        "    batch_acc = [] \n",
        "    for images, labels in tqdm(valid_dl):\n",
        "        outputs = model(images)\n",
        "        loss = util.criterion(outputs, labels)\n",
        "        batch_loss.append(loss.clone().detach().cpu())\n",
        "        batch_acc.append(util.accuracy(outputs, labels))\n",
        "    return torch.stack(batch_loss).mean(), torch.stack(batch_acc).mean()"
      ]
    },
    {
      "cell_type": "markdown",
      "metadata": {
        "id": "54fvBH6NVg_S"
      },
      "source": [
        "# Training result"
      ]
    },
    {
      "cell_type": "code",
      "execution_count": null,
      "metadata": {
        "id": "h0Uu4avXcJr5"
      },
      "outputs": [],
      "source": [
        "def fit(model, train_dl, val_dl, epochs, learning_rate):\n",
        "    optimizer = opt_func(model.parameters(), learning_rate, weight_decay = 1e-5)\n",
        "    util = calculate()\n",
        "    results = {}\n",
        "    results['train_loss'] = []\n",
        "    results['train_accu'] = []\n",
        "    results['valid_loss'] = []\n",
        "    results['valid_accu'] = []\n",
        "    for epoch in range(epochs):\n",
        "        train_loss, train_accu = training(train_dl, model, util)\n",
        "        valid_loss, valid_accu = validating(val_dl, model, util)\n",
        "        results['train_loss'].append(train_loss)\n",
        "        results['train_accu'].append(train_accu)\n",
        "        results['valid_loss'].append(valid_loss)\n",
        "        results['valid_accu'].append(valid_accu)\n",
        "        util.print_all(epoch, results)\n",
        "    return results"
      ]
    },
    {
      "cell_type": "code",
      "execution_count": null,
      "metadata": {
        "id": "XmxP8sguOa3u"
      },
      "outputs": [],
      "source": [
        "ti = time.perf_counter()\n",
        "results3d = fit(model_2D, train_dl, valid_dl, epochs, learning_rate)\n",
        "te = time.perf_counter()\n",
        "\n",
        "print('Time taken for training with {}: {:.2f}s'.format(device, te - ti))"
      ]
    },
    {
      "cell_type": "markdown",
      "source": [
        "# Save model"
      ],
      "metadata": {
        "id": "78PJcN0UKvVB"
      }
    },
    {
      "cell_type": "code",
      "source": [
        "torch.save(model_2D,current_dir+ '/w014.pth')     #save model"
      ],
      "metadata": {
        "id": "4FZCEPEbKuv9"
      },
      "execution_count": null,
      "outputs": []
    },
    {
      "cell_type": "markdown",
      "metadata": {
        "id": "8TuzqxnwOa3u"
      },
      "source": [
        "# Plot accuracy and loss"
      ]
    },
    {
      "cell_type": "code",
      "execution_count": null,
      "metadata": {
        "id": "il8RC-C7SZiL"
      },
      "outputs": [],
      "source": [
        "plt.subplot(2, 1, 1)\n",
        "plt.plot(results3d['train_accu'], '-o', label = 'train_acc')\n",
        "plt.plot(results3d['valid_accu'], '-x', label = 'valid_acc')\n",
        "plt.xlabel('epoch'), plt.ylabel('accuracy')\n",
        "plt.title('Accuracy v.s. number of epochs')\n",
        "plt.legend()\n",
        "\n",
        "plt.subplot(2, 1, 2)\n",
        "plt.plot(results3d['train_loss'], '-o', label = 'train_loss')\n",
        "plt.plot(results3d['valid_loss'], '-x', label = 'valid_loss')\n",
        "plt.xlabel('epoch'), plt.ylabel('loss')\n",
        "plt.title('Loss v.s. number of epochs')\n",
        "plt.legend()\n",
        "\n",
        "plt.tight_layout()"
      ]
    },
    {
      "cell_type": "markdown",
      "metadata": {
        "id": "SkV6uyf6Oa3u"
      },
      "source": [
        "# Prediction"
      ]
    },
    {
      "cell_type": "code",
      "source": [
        "# define custom dataset class\n",
        "class CustomDataSet(Dataset):\n",
        "    def __init__(self, folder_dir, transform):\n",
        "        self.folder_dir = folder_dir\n",
        "        self.transform = transform\n",
        "        all_imgs = os.listdir(folder_dir)\n",
        "        self.total_imgs = natsort.natsorted(all_imgs)\n",
        "\n",
        "    def __len__(self):\n",
        "        return len(self.total_imgs)\n",
        "\n",
        "    def __getitem__(self, idx):\n",
        "        img_loc = os.path.join(self.folder_dir, self.total_imgs[idx])\n",
        "        image = Image.open(img_loc).convert(\"RGB\")\n",
        "        tensor_image = self.transform(image)\n",
        "        return tensor_image"
      ],
      "metadata": {
        "id": "sF1ZQ6A1jcl9"
      },
      "execution_count": null,
      "outputs": []
    },
    {
      "cell_type": "code",
      "source": [
        "#configure preprocess steps\n",
        "\n",
        "transform = transforms.Compose([\n",
        "    transforms.ToTensor(),\n",
        "    transforms.Resize(225),\n",
        "    transforms.RandomCrop(200),\n",
        "    transforms.Normalize(mean = [0.5, 0.5, 0.5], std = [0.5, 0.5, 0.5])\n",
        "])\n",
        "\n",
        "#create datast\n",
        "pred_dataset = CustomDataSet(PATH1, transform=transform)\n",
        "pred_loader = DataLoader(pred_dataset, pred_dataset.__len__())\n",
        "pred_dl = DeviceDataLoader(pred_loader, device)\n",
        "\n",
        "#load model\n",
        "model = torch.load(current_dir+ '/w014.pth')\n",
        "\n",
        "#use the loaded model to generate prediction results\n",
        "pred_result = []\n",
        "images = next(iter(pred_dl))\n",
        "pred_output = model(images)\n",
        "pred_probs = F.softmax(pred_output, dim=1)\n",
        "pred_prob, pred_label = torch.max(pred_probs, dim=1)\n",
        "pred_result.append(pred_label.tolist())\n",
        "\n",
        "np.savetxt(\"p014.csv\", pred_result, fmt = '%d')"
      ],
      "metadata": {
        "id": "JSOUazG3zO-q"
      },
      "execution_count": null,
      "outputs": []
    },
    {
      "cell_type": "markdown",
      "metadata": {
        "id": "_eMshYN4zV65"
      },
      "source": [
        "# others"
      ]
    }
  ],
  "metadata": {
    "accelerator": "GPU",
    "colab": {
      "provenance": [],
      "include_colab_link": true
    },
    "gpuClass": "standard",
    "kernelspec": {
      "display_name": "mini-project",
      "language": "python",
      "name": "python3"
    },
    "language_info": {
      "codemirror_mode": {
        "name": "ipython",
        "version": 3
      },
      "file_extension": ".py",
      "mimetype": "text/x-python",
      "name": "python",
      "nbconvert_exporter": "python",
      "pygments_lexer": "ipython3",
      "version": "3.10.10"
    },
    "orig_nbformat": 4
  },
  "nbformat": 4,
  "nbformat_minor": 0
}